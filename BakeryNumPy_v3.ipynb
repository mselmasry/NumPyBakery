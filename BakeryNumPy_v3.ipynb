{
  "nbformat": 4,
  "nbformat_minor": 0,
  "metadata": {
    "colab": {
      "name": "BakeryNumPy v3.ipynb",
      "provenance": [],
      "collapsed_sections": []
    },
    "kernelspec": {
      "name": "python3",
      "display_name": "Python 3"
    },
    "language_info": {
      "name": "python"
    }
  },
  "cells": [
    {
      "cell_type": "code",
      "metadata": {
        "colab": {
          "base_uri": "https://localhost:8080/"
        },
        "id": "jT5JrINBmBc_",
        "outputId": "68892cac-0220-44b7-fec9-92c95969607e"
      },
      "source": [
        "#Adding prices for Brownies: 2$, Cookie: $1, Cake: $10\n",
        "price = [2,1,10]\n",
        "type(price)"
      ],
      "execution_count": 1,
      "outputs": [
        {
          "output_type": "execute_result",
          "data": {
            "text/plain": [
              "list"
            ]
          },
          "metadata": {},
          "execution_count": 1
        }
      ]
    },
    {
      "cell_type": "code",
      "metadata": {
        "colab": {
          "base_uri": "https://localhost:8080/"
        },
        "id": "ljvWNA5jp6hu",
        "outputId": "c0a6c215-b3b4-476c-98e7-8505342a6910"
      },
      "source": [
        "#Adding quantities sold for Brownies, Cookies & Cake\n",
        "quantity_sold = [17,40,1]\n",
        "type(quantity_sold)"
      ],
      "execution_count": 2,
      "outputs": [
        {
          "output_type": "execute_result",
          "data": {
            "text/plain": [
              "list"
            ]
          },
          "metadata": {},
          "execution_count": 2
        }
      ]
    },
    {
      "cell_type": "code",
      "metadata": {
        "colab": {
          "base_uri": "https://localhost:8080/"
        },
        "id": "qw6obLLFqIFU",
        "outputId": "ddbbb865-aa06-4cfe-84d1-ba8ef5589b79"
      },
      "source": [
        "import numpy as np\n",
        "price_array = np.array(price)\n",
        "quantity_sold_array = np.array(quantity_sold)\n",
        "type(price_array)"
      ],
      "execution_count": 3,
      "outputs": [
        {
          "output_type": "execute_result",
          "data": {
            "text/plain": [
              "numpy.ndarray"
            ]
          },
          "metadata": {},
          "execution_count": 3
        }
      ]
    },
    {
      "cell_type": "code",
      "metadata": {
        "colab": {
          "base_uri": "https://localhost:8080/"
        },
        "id": "cSUv2VcarS4X",
        "outputId": "30f79588-8ebc-42dd-b98a-afede4b0d525"
      },
      "source": [
        "total_price_array = price_array * quantity_sold_array\n",
        "print(total_price_array)"
      ],
      "execution_count": 4,
      "outputs": [
        {
          "output_type": "stream",
          "name": "stdout",
          "text": [
            "[34 40 10]\n"
          ]
        }
      ]
    },
    {
      "cell_type": "code",
      "metadata": {
        "colab": {
          "base_uri": "https://localhost:8080/"
        },
        "id": "QbSDzWSvQS_K",
        "outputId": "6faa3d76-7529-47ef-e71c-fd752f031344"
      },
      "source": [
        "cost_array = np.array([0.25,0.50,5.00])\n",
        "total_cost_array = cost_array * quantity_sold_array\n",
        "profit_array = price_array - cost_array\n",
        "print(profit_array)\n",
        "total_profit_array = total_price_array - total_cost_array\n",
        "print(total_profit_array)\n",
        "total_profit_array2 = quantity_sold_array * profit_array\n",
        "print(total_profit_array2)"
      ],
      "execution_count": 5,
      "outputs": [
        {
          "output_type": "stream",
          "name": "stdout",
          "text": [
            "[1.75 0.5  5.  ]\n",
            "[29.75 20.    5.  ]\n",
            "[29.75 20.    5.  ]\n"
          ]
        }
      ]
    },
    {
      "cell_type": "code",
      "metadata": {
        "colab": {
          "base_uri": "https://localhost:8080/"
        },
        "id": "wK71rSz0SXB7",
        "outputId": "fe3cb452-7d73-4719-a390-ece7d065c96e"
      },
      "source": [
        "price_array = np.append(price_array, 7)\n",
        "print(price_array)"
      ],
      "execution_count": 6,
      "outputs": [
        {
          "output_type": "stream",
          "name": "stdout",
          "text": [
            "[ 2  1 10  7]\n"
          ]
        }
      ]
    },
    {
      "cell_type": "code",
      "metadata": {
        "colab": {
          "base_uri": "https://localhost:8080/"
        },
        "id": "-8vVbuKRSftG",
        "outputId": "c29c9973-69e0-4383-873c-a2e012c4fabf"
      },
      "source": [
        "price_array = np.append(price_array, [4.50,3,4,9])\n",
        "print(price_array)"
      ],
      "execution_count": 7,
      "outputs": [
        {
          "output_type": "stream",
          "name": "stdout",
          "text": [
            "[ 2.   1.  10.   7.   4.5  3.   4.   9. ]\n"
          ]
        }
      ]
    },
    {
      "cell_type": "code",
      "metadata": {
        "colab": {
          "base_uri": "https://localhost:8080/"
        },
        "id": "87dFPw0tSzty",
        "outputId": "3a8278f7-33f5-44c4-e788-53b951278c9e"
      },
      "source": [
        "print(price_array.dtype)"
      ],
      "execution_count": 8,
      "outputs": [
        {
          "output_type": "stream",
          "name": "stdout",
          "text": [
            "float64\n"
          ]
        }
      ]
    },
    {
      "cell_type": "code",
      "metadata": {
        "colab": {
          "base_uri": "https://localhost:8080/"
        },
        "id": "Um0sK1vYTU1L",
        "outputId": "1f1a13c5-20d1-4d1f-d4f7-60a3e472a75c"
      },
      "source": [
        "price_array = np.delete(price_array,-1)\n",
        "print(price_array)"
      ],
      "execution_count": 9,
      "outputs": [
        {
          "output_type": "stream",
          "name": "stdout",
          "text": [
            "[ 2.   1.  10.   7.   4.5  3.   4. ]\n"
          ]
        }
      ]
    },
    {
      "cell_type": "code",
      "metadata": {
        "colab": {
          "base_uri": "https://localhost:8080/"
        },
        "id": "gQk_oUfITiAT",
        "outputId": "be90ee16-6182-4da3-e882-0bfb33d8c563"
      },
      "source": [
        "price_array[2] = 12\n",
        "print(price_array)"
      ],
      "execution_count": 10,
      "outputs": [
        {
          "output_type": "stream",
          "name": "stdout",
          "text": [
            "[ 2.   1.  12.   7.   4.5  3.   4. ]\n"
          ]
        }
      ]
    },
    {
      "cell_type": "code",
      "metadata": {
        "id": "43lB4kfzA7FU"
      },
      "source": [
        "#Bakery Class Definition\n",
        "\n",
        "class Bakery:\n",
        "  def __init__(self, menu, price, qty):\n",
        "    import numpy as np\n",
        "    \n",
        "    totalPrice = 0\n",
        "    totalClearancePrice = 0\n",
        "    totalSales = 0\n",
        "\n",
        "    self.indexArray = menu\n",
        "\n",
        "    self.priceArray = np.array(price)\n",
        "\n",
        "    self.quantitySoldArray = np.array(qty)\n",
        "    \n",
        "    self.totalPriceArray = np.array([])\n",
        "    for i in range(0,len(self.indexArray)):\n",
        "      self.totalPriceArray = np.append(self.totalPriceArray, 0)\n",
        "\n",
        "    self.qtyLeftoverArray = np.array([])\n",
        "    for i in range(0,len(self.indexArray)):\n",
        "      self.qtyLeftoverArray = np.append(self.qtyLeftoverArray, 0)\n",
        "\n",
        "    self.clearancePriceArray = np.array([])\n",
        "    for i in range(0,len(self.indexArray)):\n",
        "      self.clearancePriceArray = np.append(self.clearancePriceArray, 0)\n",
        "\n",
        "    self.totalSalesArray = np.array([])\n",
        "\n",
        "    print(f\"\"\"Bakery Instance Created!\n",
        "\n",
        "  We Sell: \n",
        "    Brownies for ${self.priceArray[self.indexArray.index(\"Brownie\")]} \n",
        "    Cookie for ${self.priceArray[self.indexArray.index(\"Cookie\")]} \n",
        "    Cake for ${self.priceArray[self.indexArray.index(\"Cake\")]} \n",
        "    Pies for ${self.priceArray[self.indexArray.index(\"Pie\")]} \n",
        "    Fudge for ${self.priceArray[self.indexArray.index(\"Fudge\")]} \n",
        "    Cupcake for ${self.priceArray[self.indexArray.index(\"Cupcake\")]} \n",
        "    Bannana Bread Loaf for ${self.priceArray[self.indexArray.index(\"Bannana Bread\")]}\"\"\")\n",
        "\n",
        "#function to update Price of an item\n",
        "  def updatePrice(self, item, newPrice):\n",
        "    self.priceArray[self.indexArray.index(item)] = newPrice\n",
        "\n",
        "#function to update Sold Quantity of an item\n",
        "  def updateQtySold(self, item, newQty):\n",
        "    self.quantitySoldArray[self.indexArray.index(item)] = newQty\n",
        "\n",
        "#function to calcuate total amount of money from the sale of each item\n",
        "  def calcTotalPrice(self):\n",
        "    self.totalPriceArray = self.quantitySoldArray * self.priceArray\n",
        "    self.totalPrice = 0\n",
        "    for i in range(0,len(self.indexArray)):\n",
        "      self.totalPrice += self.totalPriceArray[i]\n",
        "\n",
        "#function to update an item's leftover quantity\n",
        "  def updateLeftover(self, item, qty):\n",
        "    self.qtyLeftoverArray[self.indexArray.index(item)] = qty\n",
        "\n",
        "#Function to calculate total amount of money from Leftover Clearance based on provided discount rate\n",
        "  def calcClearance(self, discount):\n",
        "    self.clearancePriceArray = self.qtyLeftoverArray * self.priceArray * discount\n",
        "    self.totalClearancePrice = 0\n",
        "    for i in range(0,len(self.indexArray)):\n",
        "      self.totalClearancePrice += self.clearancePriceArray[i]\n",
        "\n",
        "#Function to calculate total sales (Normal Sales + Clearance)\n",
        "  def calcTotalSales(self):\n",
        "    self.totalSalesArray = self.totalPriceArray + self.clearancePriceArray\n",
        "    self.totalSales = self.totalPrice + self.totalClearancePrice\n"
      ],
      "execution_count": 11,
      "outputs": []
    },
    {
      "cell_type": "code",
      "metadata": {
        "colab": {
          "base_uri": "https://localhost:8080/"
        },
        "id": "Q_5b_J2zA-at",
        "outputId": "e8dd4cdf-2f6c-495a-f54d-cfbf514f64f1"
      },
      "source": [
        "#Initializing & preparing data structures for Bakery Instance\n",
        "\n",
        "items = [\"Brownie\",\"Cookie\",\"Cake\",\"Pie\",\"Fudge\",\"Cupcake\", \"Bannana Bread\"]\n",
        "#prices = [2,1,12,7,4.5,3,4]\n",
        "#quantities = [17,40,1,0,0,0,0]\n",
        "\n",
        "#Checking if quantity sold array is the right size; if not, empty locations are filled with zeros\n",
        "if len(quantity_sold_array) < len(price_array):\n",
        "  for i in range (len(price_array)-len(quantity_sold_array)):\n",
        "    quantity_sold_array = np.append(quantity_sold_array,0)\n",
        "\n",
        "#Creating MyBakery Instance\n",
        "\n",
        "MyBakery = Bakery(items, price_array, quantity_sold_array)\n",
        "\n",
        "#Adjusting Quantities of Pie, Fudge, Cuncake, Bannana Bread & Cookies\n",
        "MyBakery.updateQtySold(\"Pie\", 2)\n",
        "MyBakery.updateQtySold(\"Fudge\", 3)\n",
        "MyBakery.updateQtySold(\"Cupcake\", 16)\n",
        "MyBakery.updateQtySold(\"Bannana Bread\", 5)\n",
        "MyBakery.updateQtySold(\"Cookie\", 39)\n",
        "\n",
        "#Calculating TotalPrice for Sold Quantities (Revenue)\n",
        "print()\n",
        "MyBakery.calcTotalPrice()\n",
        "\n",
        "#Updating Items Leftover Quantities\n",
        "MyBakery.updateLeftover(\"Cake\", 2)\n",
        "MyBakery.updateLeftover(\"Pie\", 1)\n",
        "MyBakery.updateLeftover(\"Fudge\", 6)\n",
        "MyBakery.updateLeftover(\"Bannana Bread\", 2)\n",
        "\n",
        "#Calculating total sales price of Leftover items @ 50% discount\n",
        "MyBakery.calcClearance(0.5)\n",
        "\n",
        "#Calculating total sales revenue from regular sales & clearance\n",
        "MyBakery.calcTotalSales()\n",
        "\n",
        "print(\"Std Sales Breakdown is:\" , MyBakery.totalPriceArray)\n",
        "print(\"Std Sales is : $\", MyBakery.totalPrice)\n",
        "print()\n",
        "print(\"Clearance Sales Breakdown is:\" , MyBakery.clearancePriceArray)\n",
        "print(\"Clearance Sales is: $\", MyBakery.totalClearancePrice)\n",
        "print()\n",
        "print(\"Total Sales Breakdown is:\" , MyBakery.totalSalesArray)\n",
        "print(\"Total Sales is: $\", MyBakery.totalSales)"
      ],
      "execution_count": 13,
      "outputs": [
        {
          "output_type": "stream",
          "name": "stdout",
          "text": [
            "Bakery Instance Created!\n",
            "\n",
            "  We Sell: \n",
            "    Brownies for $2.0 \n",
            "    Cookie for $1.0 \n",
            "    Cake for $12.0 \n",
            "    Pies for $7.0 \n",
            "    Fudge for $4.5 \n",
            "    Cupcake for $3.0 \n",
            "    Bannana Bread Loaf for $4.0\n",
            "\n",
            "Std Sales Breakdown is: [34.  39.  12.  14.  13.5 48.  20. ]\n",
            "Std Sales is : $ 180.5\n",
            "\n",
            "Clearance Sales Breakdown is: [ 0.   0.  12.   3.5 13.5  0.   4. ]\n",
            "Clearance Sales is: $ 33.0\n",
            "\n",
            "Total Sales Breakdown is: [34.  39.  24.  17.5 27.  48.  24. ]\n",
            "Total Sales is: $ 213.5\n"
          ]
        }
      ]
    }
  ]
}