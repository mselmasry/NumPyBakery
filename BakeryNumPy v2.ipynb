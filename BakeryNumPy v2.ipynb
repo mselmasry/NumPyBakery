{
  "nbformat": 4,
  "nbformat_minor": 0,
  "metadata": {
    "colab": {
      "name": "BakeryNumPy.ipynb",
      "provenance": [],
      "collapsed_sections": []
    },
    "kernelspec": {
      "name": "python3",
      "display_name": "Python 3"
    },
    "language_info": {
      "name": "python"
    }
  },
  "cells": [
    {
      "cell_type": "code",
      "metadata": {
        "id": "6xFa5yU-_sws"
      },
      "source": [
        "#Bakery Class Definition\n",
        "\n",
        "class Bakery:\n",
        "  def __init__(self, menu, price, qty):\n",
        "    import numpy as np\n",
        "    \n",
        "    totalPrice = 0\n",
        "    totalClearancePrice = 0\n",
        "    totalSales = 0\n",
        "\n",
        "    self.indexArray = menu\n",
        "\n",
        "    self.priceArray = np.array(price)\n",
        "\n",
        "    self.quantitySoldArray = np.array(qty)\n",
        "    \n",
        "    self.totalPriceArray = np.array([])\n",
        "    for i in range(0,len(self.indexArray)):\n",
        "      self.totalPriceArray = np.append(self.totalPriceArray, 0)\n",
        "\n",
        "    self.qtyLeftoverArray = np.array([])\n",
        "    for i in range(0,len(self.indexArray)):\n",
        "      self.qtyLeftoverArray = np.append(self.qtyLeftoverArray, 0)\n",
        "\n",
        "    self.clearancePriceArray = np.array([])\n",
        "    for i in range(0,len(self.indexArray)):\n",
        "      self.clearancePriceArray = np.append(self.clearancePriceArray, 0)\n",
        "\n",
        "    self.totalSalesArray = np.array([])\n",
        "\n",
        "    print(f\"\"\"Bakery Instance Created!\n",
        "\n",
        "  We Sell: \n",
        "    Brownies for ${self.priceArray[self.indexArray.index(\"Brownie\")]} \n",
        "    Cookie for ${self.priceArray[self.indexArray.index(\"Cookie\")]} \n",
        "    Cake for ${self.priceArray[self.indexArray.index(\"Cake\")]} \n",
        "    Pies for ${self.priceArray[self.indexArray.index(\"Pie\")]} \n",
        "    Fudge for ${self.priceArray[self.indexArray.index(\"Fudge\")]} \n",
        "    Cupcake for ${self.priceArray[self.indexArray.index(\"Cupcake\")]} \n",
        "    Bannana Bread Loaf for ${self.priceArray[self.indexArray.index(\"Bannana Bread\")]}\"\"\")\n",
        "\n",
        "#function to update Price of an item\n",
        "  def updatePrice(self, item, newPrice):\n",
        "    self.priceArray[self.indexArray.index(item)] = newPrice\n",
        "\n",
        "#function to update Sold Quantity of an item\n",
        "  def updateQtySold(self, item, newQty):\n",
        "    self.quantitySoldArray[self.indexArray.index(item)] = newQty\n",
        "\n",
        "#function to calcuate total amount of money from the sale of each item\n",
        "  def calcTotalPrice(self):\n",
        "    self.totalPriceArray = self.quantitySoldArray * self.priceArray\n",
        "    self.totalPrice = 0\n",
        "    for i in range(0,len(self.indexArray)):\n",
        "      self.totalPrice += self.totalPriceArray[i]\n",
        "\n",
        "#function to update an item's leftover quantity\n",
        "  def updateLeftover(self, item, qty):\n",
        "    self.qtyLeftoverArray[self.indexArray.index(item)] = qty\n",
        "\n",
        "#Function to calculate total amount of money from Leftover Clearance based on provided discount rate\n",
        "  def calcClearance(self, discount):\n",
        "    self.clearancePriceArray = self.qtyLeftoverArray * self.priceArray * discount\n",
        "    self.totalClearancePrice = 0\n",
        "    for i in range(0,len(self.indexArray)):\n",
        "      self.totalClearancePrice += self.clearancePriceArray[i]\n",
        "\n",
        "#Function to calculate total sales (Normal Sales + Clearance)\n",
        "  def calcTotalSales(self):\n",
        "    self.totalSalesArray = self.totalPriceArray + self.clearancePriceArray\n",
        "    self.totalSales = self.totalPrice + self.totalClearancePrice\n"
      ],
      "execution_count": 1,
      "outputs": []
    },
    {
      "cell_type": "code",
      "metadata": {
        "colab": {
          "base_uri": "https://localhost:8080/"
        },
        "id": "dm7SM3AcFtnO",
        "outputId": "17be127c-a788-4b1e-c340-8a9c85b27b2d"
      },
      "source": [
        "#Creating MyBakery Instance\n",
        "\n",
        "items = [\"Brownie\",\"Cookie\",\"Cake\",\"Pie\",\"Fudge\",\"Cupcake\", \"Bannana Bread\"]\n",
        "prices = [2,1,12,7,4.5,3,4]\n",
        "quantities = [17,40,1,0,0,0,0]\n",
        "\n",
        "MyBakery = Bakery(items, prices, quantities)\n",
        "\n",
        "#Adjusting Quantities of Pie, Fudge, Cuncake, Bannana Bread & Cookies\n",
        "MyBakery.updateQtySold(\"Pie\", 2)\n",
        "MyBakery.updateQtySold(\"Fudge\", 3)\n",
        "MyBakery.updateQtySold(\"Cupcake\", 16)\n",
        "MyBakery.updateQtySold(\"Bannana Bread\", 5)\n",
        "MyBakery.updateQtySold(\"Cookie\", 39)\n",
        "\n",
        "#Calculating TotalPrice for Sold Quantities (Revenue)\n",
        "print()\n",
        "MyBakery.calcTotalPrice()\n",
        "\n",
        "#Updating Items Leftover Quantities\n",
        "MyBakery.updateLeftover(\"Cake\", 2)\n",
        "MyBakery.updateLeftover(\"Pie\", 1)\n",
        "MyBakery.updateLeftover(\"Fudge\", 6)\n",
        "MyBakery.updateLeftover(\"Bannana Bread\", 2)\n",
        "\n",
        "#Calculating total sales price of Leftover items @ 50% discount\n",
        "MyBakery.calcClearance(0.5)\n",
        "\n",
        "#Calculating total sales revenue from regular sales & clearance\n",
        "MyBakery.calcTotalSales()\n",
        "\n",
        "print(\"Total Sales is: $\", MyBakery.totalSales)"
      ],
      "execution_count": 2,
      "outputs": [
        {
          "output_type": "stream",
          "name": "stdout",
          "text": [
            "Bakery Instance Created!\n",
            "\n",
            "  We Sell: \n",
            "    Brownies for $2.0 \n",
            "    Cookie for $1.0 \n",
            "    Cake for $12.0 \n",
            "    Pies for $7.0 \n",
            "    Fudge for $4.5 \n",
            "    Cupcake for $3.0 \n",
            "    Bannana Bread Loaf for $4.0\n",
            "\n",
            "Total Sales is: $ 213.5\n"
          ]
        }
      ]
    }
  ]
}